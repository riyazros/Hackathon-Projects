{
  "nbformat": 4,
  "nbformat_minor": 0,
  "metadata": {
    "colab": {
      "name": "Black Friday sales PYSPARK.ipynb",
      "provenance": []
    },
    "kernelspec": {
      "name": "python3",
      "display_name": "Python 3"
    },
    "language_info": {
      "name": "python"
    }
  },
  "cells": [
    {
      "cell_type": "code",
      "execution_count": 181,
      "metadata": {
        "colab": {
          "base_uri": "https://localhost:8080/"
        },
        "id": "UErFkph18ALi",
        "outputId": "85fabae9-61c0-4db1-f61a-835ff6823975"
      },
      "outputs": [
        {
          "output_type": "stream",
          "name": "stdout",
          "text": [
            "Requirement already satisfied: pyspark in /usr/local/lib/python3.7/dist-packages (3.2.1)\n",
            "Requirement already satisfied: py4j==0.10.9.3 in /usr/local/lib/python3.7/dist-packages (from pyspark) (0.10.9.3)\n"
          ]
        }
      ],
      "source": [
        "!pip install pyspark"
      ]
    },
    {
      "cell_type": "code",
      "source": [
        "import pyspark"
      ],
      "metadata": {
        "id": "_X3Hmbl98T5N"
      },
      "execution_count": 182,
      "outputs": []
    },
    {
      "cell_type": "code",
      "source": [
        "from pyspark.sql import SparkSession"
      ],
      "metadata": {
        "id": "29P13gcI8855"
      },
      "execution_count": 183,
      "outputs": []
    },
    {
      "cell_type": "code",
      "source": [
        "spark=SparkSession.builder.appName(\"regression\").getOrCreate()"
      ],
      "metadata": {
        "id": "tZMJ4A9c9Vvh"
      },
      "execution_count": 184,
      "outputs": []
    },
    {
      "cell_type": "code",
      "source": [
        "spark"
      ],
      "metadata": {
        "colab": {
          "base_uri": "https://localhost:8080/",
          "height": 219
        },
        "id": "26l-amuq9xeM",
        "outputId": "b22de58c-d8a1-4fa1-d50f-94a3ba9851f5"
      },
      "execution_count": 185,
      "outputs": [
        {
          "output_type": "execute_result",
          "data": {
            "text/html": [
              "\n",
              "            <div>\n",
              "                <p><b>SparkSession - in-memory</b></p>\n",
              "                \n",
              "        <div>\n",
              "            <p><b>SparkContext</b></p>\n",
              "\n",
              "            <p><a href=\"http://1fd63977a2fb:4040\">Spark UI</a></p>\n",
              "\n",
              "            <dl>\n",
              "              <dt>Version</dt>\n",
              "                <dd><code>v3.2.1</code></dd>\n",
              "              <dt>Master</dt>\n",
              "                <dd><code>local[*]</code></dd>\n",
              "              <dt>AppName</dt>\n",
              "                <dd><code>regression</code></dd>\n",
              "            </dl>\n",
              "        </div>\n",
              "        \n",
              "            </div>\n",
              "        "
            ],
            "text/plain": [
              "<pyspark.sql.session.SparkSession at 0x7f2ab89fbdd0>"
            ]
          },
          "metadata": {},
          "execution_count": 185
        }
      ]
    },
    {
      "cell_type": "code",
      "source": [
        ""
      ],
      "metadata": {
        "id": "uZyrniyO9zuf"
      },
      "execution_count": 185,
      "outputs": []
    },
    {
      "cell_type": "code",
      "source": [
        "bftrain=spark.read.csv(\"/train.csv\",inferSchema=True,header=True)"
      ],
      "metadata": {
        "id": "f0Rkru5R_0M9"
      },
      "execution_count": 186,
      "outputs": []
    },
    {
      "cell_type": "code",
      "source": [
        "bftest=spark.read.csv(\"/test.csv\",inferSchema=True,header=True)"
      ],
      "metadata": {
        "id": "5IVJBisgAv0z"
      },
      "execution_count": 187,
      "outputs": []
    },
    {
      "cell_type": "code",
      "source": [
        "bftest.count()"
      ],
      "metadata": {
        "colab": {
          "base_uri": "https://localhost:8080/"
        },
        "id": "WMsgei7dA5jt",
        "outputId": "5233b91d-3601-448f-b6b4-e14aeb8d1a7b"
      },
      "execution_count": 188,
      "outputs": [
        {
          "output_type": "execute_result",
          "data": {
            "text/plain": [
              "233599"
            ]
          },
          "metadata": {},
          "execution_count": 188
        }
      ]
    },
    {
      "cell_type": "code",
      "source": [
        "bftrain.count()"
      ],
      "metadata": {
        "colab": {
          "base_uri": "https://localhost:8080/"
        },
        "id": "Fs6eRXceA9F2",
        "outputId": "d6a66f00-d86c-40fb-f57a-3ca73c41bea1"
      },
      "execution_count": 189,
      "outputs": [
        {
          "output_type": "execute_result",
          "data": {
            "text/plain": [
              "550068"
            ]
          },
          "metadata": {},
          "execution_count": 189
        }
      ]
    },
    {
      "cell_type": "code",
      "source": [
        "len(bftest.columns)"
      ],
      "metadata": {
        "colab": {
          "base_uri": "https://localhost:8080/"
        },
        "id": "UuZAQzNiA_xO",
        "outputId": "01c51cd5-d0f7-4fd9-cc52-1f5adefdc1ff"
      },
      "execution_count": 190,
      "outputs": [
        {
          "output_type": "execute_result",
          "data": {
            "text/plain": [
              "11"
            ]
          },
          "metadata": {},
          "execution_count": 190
        }
      ]
    },
    {
      "cell_type": "code",
      "source": [
        "len(bftrain.columns)"
      ],
      "metadata": {
        "colab": {
          "base_uri": "https://localhost:8080/"
        },
        "id": "pRbZ4GQRBF4d",
        "outputId": "4f4896c0-fc20-4625-bd01-e845444a23b6"
      },
      "execution_count": 191,
      "outputs": [
        {
          "output_type": "execute_result",
          "data": {
            "text/plain": [
              "12"
            ]
          },
          "metadata": {},
          "execution_count": 191
        }
      ]
    },
    {
      "cell_type": "code",
      "source": [
        "bftrain.printSchema()"
      ],
      "metadata": {
        "colab": {
          "base_uri": "https://localhost:8080/"
        },
        "id": "tNnclrGYBKAc",
        "outputId": "b7307e77-1b4c-434e-e71f-99dcd6ca301e"
      },
      "execution_count": 192,
      "outputs": [
        {
          "output_type": "stream",
          "name": "stdout",
          "text": [
            "root\n",
            " |-- User_ID: integer (nullable = true)\n",
            " |-- Product_ID: string (nullable = true)\n",
            " |-- Gender: string (nullable = true)\n",
            " |-- Age: string (nullable = true)\n",
            " |-- Occupation: integer (nullable = true)\n",
            " |-- City_Category: string (nullable = true)\n",
            " |-- Stay_In_Current_City_Years: string (nullable = true)\n",
            " |-- Marital_Status: integer (nullable = true)\n",
            " |-- Product_Category_1: integer (nullable = true)\n",
            " |-- Product_Category_2: integer (nullable = true)\n",
            " |-- Product_Category_3: integer (nullable = true)\n",
            " |-- Purchase: integer (nullable = true)\n",
            "\n"
          ]
        }
      ]
    },
    {
      "cell_type": "code",
      "source": [
        "from pyspark.sql.functions import col,isnull,when,count"
      ],
      "metadata": {
        "id": "w8CGqGEWBWj0"
      },
      "execution_count": 193,
      "outputs": []
    },
    {
      "cell_type": "code",
      "source": [
        "bftrain.select([count(when(isnull(c),c)).alias(c) for c in bftrain.columns]).show()"
      ],
      "metadata": {
        "colab": {
          "base_uri": "https://localhost:8080/"
        },
        "id": "_M0m6A1zBuD5",
        "outputId": "3a4a7efc-4148-4da1-aba8-7e788c2e6b04"
      },
      "execution_count": 194,
      "outputs": [
        {
          "output_type": "stream",
          "name": "stdout",
          "text": [
            "+-------+----------+------+---+----------+-------------+--------------------------+--------------+------------------+------------------+------------------+--------+\n",
            "|User_ID|Product_ID|Gender|Age|Occupation|City_Category|Stay_In_Current_City_Years|Marital_Status|Product_Category_1|Product_Category_2|Product_Category_3|Purchase|\n",
            "+-------+----------+------+---+----------+-------------+--------------------------+--------------+------------------+------------------+------------------+--------+\n",
            "|      0|         0|     0|  0|         0|            0|                         0|             0|                 0|            173638|            383247|       0|\n",
            "+-------+----------+------+---+----------+-------------+--------------------------+--------------+------------------+------------------+------------------+--------+\n",
            "\n"
          ]
        }
      ]
    },
    {
      "cell_type": "code",
      "source": [
        "bftest.select([count(when(isnull(c),c)).alias(c) for c in bftest.columns]).show()"
      ],
      "metadata": {
        "colab": {
          "base_uri": "https://localhost:8080/"
        },
        "id": "bG6PVFtHCnNq",
        "outputId": "ce4cae67-8dc6-4121-85e0-2951f0d05362"
      },
      "execution_count": 195,
      "outputs": [
        {
          "output_type": "stream",
          "name": "stdout",
          "text": [
            "+-------+----------+------+---+----------+-------------+--------------------------+--------------+------------------+------------------+------------------+\n",
            "|User_ID|Product_ID|Gender|Age|Occupation|City_Category|Stay_In_Current_City_Years|Marital_Status|Product_Category_1|Product_Category_2|Product_Category_3|\n",
            "+-------+----------+------+---+----------+-------------+--------------------------+--------------+------------------+------------------+------------------+\n",
            "|      0|         0|     0|  0|         0|            0|                         0|             0|                 0|             72344|            162562|\n",
            "+-------+----------+------+---+----------+-------------+--------------------------+--------------+------------------+------------------+------------------+\n",
            "\n"
          ]
        }
      ]
    },
    {
      "cell_type": "code",
      "source": [
        "bftrain.groupBy(\"Product_Category_2\").count().show()"
      ],
      "metadata": {
        "colab": {
          "base_uri": "https://localhost:8080/"
        },
        "id": "pI7pmyq3C8Ts",
        "outputId": "01e11ad2-7ef4-4173-a128-ba59b33f0ef9"
      },
      "execution_count": 196,
      "outputs": [
        {
          "output_type": "stream",
          "name": "stdout",
          "text": [
            "+------------------+------+\n",
            "|Product_Category_2| count|\n",
            "+------------------+------+\n",
            "|                12|  5528|\n",
            "|              null|173638|\n",
            "|                13| 10531|\n",
            "|                 6| 16466|\n",
            "|                16| 43255|\n",
            "|                 3|  2884|\n",
            "|                 5| 26235|\n",
            "|                15| 37855|\n",
            "|                 9|  5693|\n",
            "|                17| 13320|\n",
            "|                 4| 25677|\n",
            "|                 8| 64088|\n",
            "|                 7|   626|\n",
            "|                10|  3043|\n",
            "|                11| 14134|\n",
            "|                14| 55108|\n",
            "|                 2| 49217|\n",
            "|                18|  2770|\n",
            "+------------------+------+\n",
            "\n"
          ]
        }
      ]
    },
    {
      "cell_type": "code",
      "source": [
        "bftrain=bftrain.na.fill(value=888,subset='Product_Category_2')"
      ],
      "metadata": {
        "id": "1gtBVHfcDq9D"
      },
      "execution_count": 197,
      "outputs": []
    },
    {
      "cell_type": "code",
      "source": [
        "bftest=bftest.na.fill(value=888,subset='Product_Category_2')"
      ],
      "metadata": {
        "id": "o2O4OrRPENU3"
      },
      "execution_count": 198,
      "outputs": []
    },
    {
      "cell_type": "code",
      "source": [
        "bftrain=bftrain.na.fill(value=999,subset='Product_Category_3')"
      ],
      "metadata": {
        "id": "r7ij89mQEmez"
      },
      "execution_count": 199,
      "outputs": []
    },
    {
      "cell_type": "code",
      "source": [
        "bftest=bftest.na.fill(value=999,subset='Product_Category_3')"
      ],
      "metadata": {
        "id": "0mt-pyJ7E34-"
      },
      "execution_count": 200,
      "outputs": []
    },
    {
      "cell_type": "code",
      "source": [
        "bftrain.show(5)"
      ],
      "metadata": {
        "colab": {
          "base_uri": "https://localhost:8080/"
        },
        "id": "cwaH8hBcE9mO",
        "outputId": "f98326e6-93a2-4305-b1fd-2124ffe18d93"
      },
      "execution_count": 201,
      "outputs": [
        {
          "output_type": "stream",
          "name": "stdout",
          "text": [
            "+-------+----------+------+----+----------+-------------+--------------------------+--------------+------------------+------------------+------------------+--------+\n",
            "|User_ID|Product_ID|Gender| Age|Occupation|City_Category|Stay_In_Current_City_Years|Marital_Status|Product_Category_1|Product_Category_2|Product_Category_3|Purchase|\n",
            "+-------+----------+------+----+----------+-------------+--------------------------+--------------+------------------+------------------+------------------+--------+\n",
            "|1000001| P00069042|     F|0-17|        10|            A|                         2|             0|                 3|               888|               999|    8370|\n",
            "|1000001| P00248942|     F|0-17|        10|            A|                         2|             0|                 1|                 6|                14|   15200|\n",
            "|1000001| P00087842|     F|0-17|        10|            A|                         2|             0|                12|               888|               999|    1422|\n",
            "|1000001| P00085442|     F|0-17|        10|            A|                         2|             0|                12|                14|               999|    1057|\n",
            "|1000002| P00285442|     M| 55+|        16|            C|                        4+|             0|                 8|               888|               999|    7969|\n",
            "+-------+----------+------+----+----------+-------------+--------------------------+--------------+------------------+------------------+------------------+--------+\n",
            "only showing top 5 rows\n",
            "\n"
          ]
        }
      ]
    },
    {
      "cell_type": "code",
      "source": [
        "from pyspark.ml.feature import StringIndexer\n",
        "from pyspark.ml import Pipeline"
      ],
      "metadata": {
        "id": "4irgirTWFZQj"
      },
      "execution_count": 202,
      "outputs": []
    },
    {
      "cell_type": "code",
      "source": [
        "indexer=[StringIndexer(inputCol=col, outputCol=col+\"_index\").fit(bftrain) for col in list(set(bftrain.columns)-set ([\"purchase\",\"User_ID\",\"Product_ID\"]))]"
      ],
      "metadata": {
        "id": "60l2fyFcF0aC"
      },
      "execution_count": 203,
      "outputs": []
    },
    {
      "cell_type": "code",
      "source": [
        "pipeline=Pipeline(stages=indexer)\n",
        "bftraindf=pipeline.fit(bftrain).transform(bftrain)"
      ],
      "metadata": {
        "id": "Nuzj0CYRGnl4"
      },
      "execution_count": 204,
      "outputs": []
    },
    {
      "cell_type": "code",
      "source": [
        "bftraindf.printSchema()"
      ],
      "metadata": {
        "colab": {
          "base_uri": "https://localhost:8080/"
        },
        "id": "5006KfnbHOA8",
        "outputId": "9d0a67cf-1868-453e-8642-657262ffde82"
      },
      "execution_count": 205,
      "outputs": [
        {
          "output_type": "stream",
          "name": "stdout",
          "text": [
            "root\n",
            " |-- User_ID: integer (nullable = true)\n",
            " |-- Product_ID: string (nullable = true)\n",
            " |-- Gender: string (nullable = true)\n",
            " |-- Age: string (nullable = true)\n",
            " |-- Occupation: integer (nullable = true)\n",
            " |-- City_Category: string (nullable = true)\n",
            " |-- Stay_In_Current_City_Years: string (nullable = true)\n",
            " |-- Marital_Status: integer (nullable = true)\n",
            " |-- Product_Category_1: integer (nullable = true)\n",
            " |-- Product_Category_2: integer (nullable = true)\n",
            " |-- Product_Category_3: integer (nullable = true)\n",
            " |-- Purchase: integer (nullable = true)\n",
            " |-- Product_Category_3_index: double (nullable = false)\n",
            " |-- Age_index: double (nullable = false)\n",
            " |-- Purchase_index: double (nullable = false)\n",
            " |-- City_Category_index: double (nullable = false)\n",
            " |-- Gender_index: double (nullable = false)\n",
            " |-- Stay_In_Current_City_Years_index: double (nullable = false)\n",
            " |-- Product_Category_1_index: double (nullable = false)\n",
            " |-- Marital_Status_index: double (nullable = false)\n",
            " |-- Occupation_index: double (nullable = false)\n",
            " |-- Product_Category_2_index: double (nullable = false)\n",
            "\n"
          ]
        }
      ]
    },
    {
      "cell_type": "code",
      "source": [
        "bftestdf=pipeline.fit(bftest).transform(bftest)"
      ],
      "metadata": {
        "id": "SxS1_7rlPlFa"
      },
      "execution_count": 206,
      "outputs": []
    },
    {
      "cell_type": "code",
      "source": [
        "bftestdf.printSchema()"
      ],
      "metadata": {
        "colab": {
          "base_uri": "https://localhost:8080/"
        },
        "id": "6EvSvcZcRGBq",
        "outputId": "8cd3a176-6bbe-4c4c-c9ee-96c9b3face69"
      },
      "execution_count": 207,
      "outputs": [
        {
          "output_type": "stream",
          "name": "stdout",
          "text": [
            "root\n",
            " |-- User_ID: integer (nullable = true)\n",
            " |-- Product_ID: string (nullable = true)\n",
            " |-- Gender: string (nullable = true)\n",
            " |-- Age: string (nullable = true)\n",
            " |-- Occupation: integer (nullable = true)\n",
            " |-- City_Category: string (nullable = true)\n",
            " |-- Stay_In_Current_City_Years: string (nullable = true)\n",
            " |-- Marital_Status: integer (nullable = true)\n",
            " |-- Product_Category_1: integer (nullable = true)\n",
            " |-- Product_Category_2: integer (nullable = true)\n",
            " |-- Product_Category_3: integer (nullable = true)\n",
            " |-- Product_Category_3_index: double (nullable = false)\n",
            " |-- Age_index: double (nullable = false)\n",
            " |-- City_Category_index: double (nullable = false)\n",
            " |-- Gender_index: double (nullable = false)\n",
            " |-- Stay_In_Current_City_Years_index: double (nullable = false)\n",
            " |-- Product_Category_1_index: double (nullable = false)\n",
            " |-- Marital_Status_index: double (nullable = false)\n",
            " |-- Occupation_index: double (nullable = false)\n",
            " |-- Product_Category_2_index: double (nullable = false)\n",
            "\n"
          ]
        }
      ]
    },
    {
      "cell_type": "code",
      "source": [
        "bftraindf.columns"
      ],
      "metadata": {
        "colab": {
          "base_uri": "https://localhost:8080/"
        },
        "id": "ntsFBteuRJE8",
        "outputId": "1eb5d4e7-d685-4eb2-e6d9-86eb56312cf8"
      },
      "execution_count": 208,
      "outputs": [
        {
          "output_type": "execute_result",
          "data": {
            "text/plain": [
              "['User_ID',\n",
              " 'Product_ID',\n",
              " 'Gender',\n",
              " 'Age',\n",
              " 'Occupation',\n",
              " 'City_Category',\n",
              " 'Stay_In_Current_City_Years',\n",
              " 'Marital_Status',\n",
              " 'Product_Category_1',\n",
              " 'Product_Category_2',\n",
              " 'Product_Category_3',\n",
              " 'Purchase',\n",
              " 'Product_Category_3_index',\n",
              " 'Age_index',\n",
              " 'Purchase_index',\n",
              " 'City_Category_index',\n",
              " 'Gender_index',\n",
              " 'Stay_In_Current_City_Years_index',\n",
              " 'Product_Category_1_index',\n",
              " 'Marital_Status_index',\n",
              " 'Occupation_index',\n",
              " 'Product_Category_2_index']"
            ]
          },
          "metadata": {},
          "execution_count": 208
        }
      ]
    },
    {
      "cell_type": "code",
      "source": [
        "columns_todrp=['User_ID',\n",
        " 'Product_ID',\n",
        " 'Gender',\n",
        " 'Age',\n",
        " 'Occupation',\n",
        " 'City_Category',\n",
        " 'Stay_In_Current_City_Years',\n",
        " 'Marital_Status',\n",
        " 'Product_Category_1',\n",
        " 'Product_Category_2',\n",
        " 'Product_Category_3','Purchase_index']"
      ],
      "metadata": {
        "id": "j3RkG1zUR4gE"
      },
      "execution_count": 209,
      "outputs": []
    },
    {
      "cell_type": "code",
      "source": [
        "bftraindf=bftraindf.drop(*columns_todrp)"
      ],
      "metadata": {
        "id": "5NJir2OySMRG"
      },
      "execution_count": 210,
      "outputs": []
    },
    {
      "cell_type": "code",
      "source": [
        "bftraindf.columns"
      ],
      "metadata": {
        "colab": {
          "base_uri": "https://localhost:8080/"
        },
        "id": "IG-q3vmISVeD",
        "outputId": "f9655a1f-2a5c-421f-a5e3-56cb319cd8f4"
      },
      "execution_count": 211,
      "outputs": [
        {
          "output_type": "execute_result",
          "data": {
            "text/plain": [
              "['Purchase',\n",
              " 'Product_Category_3_index',\n",
              " 'Age_index',\n",
              " 'City_Category_index',\n",
              " 'Gender_index',\n",
              " 'Stay_In_Current_City_Years_index',\n",
              " 'Product_Category_1_index',\n",
              " 'Marital_Status_index',\n",
              " 'Occupation_index',\n",
              " 'Product_Category_2_index']"
            ]
          },
          "metadata": {},
          "execution_count": 211
        }
      ]
    },
    {
      "cell_type": "code",
      "source": [
        "from pyspark.ml.feature import RFormula"
      ],
      "metadata": {
        "id": "Des8E8uJSYaS"
      },
      "execution_count": 212,
      "outputs": []
    },
    {
      "cell_type": "code",
      "source": [
        "formula=RFormula(formula='Purchase~.',featuresCol='features',labelCol='label')"
      ],
      "metadata": {
        "id": "t5qZP6hCUpL-"
      },
      "execution_count": 213,
      "outputs": []
    },
    {
      "cell_type": "code",
      "source": [
        "output=formula.fit(bftraindf).transform(bftraindf)"
      ],
      "metadata": {
        "id": "1biprAHJU6sE"
      },
      "execution_count": 214,
      "outputs": []
    },
    {
      "cell_type": "code",
      "source": [
        "output.show(5)"
      ],
      "metadata": {
        "colab": {
          "base_uri": "https://localhost:8080/"
        },
        "id": "f693G8T7VTEh",
        "outputId": "33652381-00a5-4da4-e7cc-40e6c565a779"
      },
      "execution_count": 215,
      "outputs": [
        {
          "output_type": "stream",
          "name": "stdout",
          "text": [
            "+--------+------------------------+---------+-------------------+------------+--------------------------------+------------------------+--------------------+----------------+------------------------+--------------------+-------+\n",
            "|Purchase|Product_Category_3_index|Age_index|City_Category_index|Gender_index|Stay_In_Current_City_Years_index|Product_Category_1_index|Marital_Status_index|Occupation_index|Product_Category_2_index|            features|  label|\n",
            "+--------+------------------------+---------+-------------------+------------+--------------------------------+------------------------+--------------------+----------------+------------------------+--------------------+-------+\n",
            "|    8370|                     0.0|      6.0|                2.0|         1.0|                             1.0|                     6.0|                 0.0|            12.0|                     0.0|[0.0,6.0,2.0,1.0,...| 8370.0|\n",
            "|   15200|                     3.0|      6.0|                2.0|         1.0|                             1.0|                     1.0|                 0.0|            12.0|                     8.0|[3.0,6.0,2.0,1.0,...|15200.0|\n",
            "|    1422|                     0.0|      6.0|                2.0|         1.0|                             1.0|                    12.0|                 0.0|            12.0|                     0.0|[0.0,6.0,2.0,1.0,...| 1422.0|\n",
            "|    1057|                     0.0|      6.0|                2.0|         1.0|                             1.0|                    12.0|                 0.0|            12.0|                     2.0|[0.0,6.0,2.0,1.0,...| 1057.0|\n",
            "|    7969|                     0.0|      5.0|                1.0|         0.0|                             3.0|                     2.0|                 0.0|             9.0|                     0.0|[0.0,5.0,1.0,0.0,...| 7969.0|\n",
            "+--------+------------------------+---------+-------------------+------------+--------------------------------+------------------------+--------------------+----------------+------------------------+--------------------+-------+\n",
            "only showing top 5 rows\n",
            "\n"
          ]
        }
      ]
    },
    {
      "cell_type": "code",
      "source": [
        "from pyspark.ml.regression import LinearRegression"
      ],
      "metadata": {
        "id": "XiPnmjSlVaOg"
      },
      "execution_count": 216,
      "outputs": []
    },
    {
      "cell_type": "code",
      "source": [
        "reg=LinearRegression(featuresCol='features', labelCol='label')"
      ],
      "metadata": {
        "id": "LUFtxy99Vz97"
      },
      "execution_count": 217,
      "outputs": []
    },
    {
      "cell_type": "code",
      "source": [
        "regmodel=reg.fit(output)"
      ],
      "metadata": {
        "id": "fTgQh_giWNsw"
      },
      "execution_count": 218,
      "outputs": []
    },
    {
      "cell_type": "code",
      "source": [
        "regmodel.summary.r2adj"
      ],
      "metadata": {
        "colab": {
          "base_uri": "https://localhost:8080/"
        },
        "id": "zlgvpSvBWRfp",
        "outputId": "a95f27d2-b91d-4125-bdb2-7af96ef0f98e"
      },
      "execution_count": 219,
      "outputs": [
        {
          "output_type": "execute_result",
          "data": {
            "text/plain": [
              "0.06356300117930425"
            ]
          },
          "metadata": {},
          "execution_count": 219
        }
      ]
    },
    {
      "cell_type": "code",
      "source": [
        "regmodel.summary.rootMeanSquaredError"
      ],
      "metadata": {
        "colab": {
          "base_uri": "https://localhost:8080/"
        },
        "id": "CrtLIo25WWaT",
        "outputId": "a69f0c32-3062-4ca9-b0eb-c2b3b237a63f"
      },
      "execution_count": 220,
      "outputs": [
        {
          "output_type": "execute_result",
          "data": {
            "text/plain": [
              "4860.759869813398"
            ]
          },
          "metadata": {},
          "execution_count": 220
        }
      ]
    },
    {
      "cell_type": "code",
      "source": [
        "bftestdf=bftestdf.drop(*columns_todrp)"
      ],
      "metadata": {
        "id": "R-qIemWUWtzb"
      },
      "execution_count": 221,
      "outputs": []
    },
    {
      "cell_type": "code",
      "source": [
        "\n",
        "bftestdf.columns"
      ],
      "metadata": {
        "colab": {
          "base_uri": "https://localhost:8080/"
        },
        "id": "CeFuPO6QXLVm",
        "outputId": "dcd8982f-c66a-4659-af7f-df55bdee2b18"
      },
      "execution_count": 222,
      "outputs": [
        {
          "output_type": "execute_result",
          "data": {
            "text/plain": [
              "['Product_Category_3_index',\n",
              " 'Age_index',\n",
              " 'City_Category_index',\n",
              " 'Gender_index',\n",
              " 'Stay_In_Current_City_Years_index',\n",
              " 'Product_Category_1_index',\n",
              " 'Marital_Status_index',\n",
              " 'Occupation_index',\n",
              " 'Product_Category_2_index']"
            ]
          },
          "metadata": {},
          "execution_count": 222
        }
      ]
    },
    {
      "cell_type": "code",
      "source": [
        "from pyspark.ml.feature import VectorAssembler"
      ],
      "metadata": {
        "id": "k5521iDeXNe7"
      },
      "execution_count": 223,
      "outputs": []
    },
    {
      "cell_type": "code",
      "source": [
        "assembler=VectorAssembler(inputCols=['Product_Category_3_index',\n",
        " 'Age_index',\n",
        " 'City_Category_index',\n",
        " 'Gender_index',\n",
        " 'Stay_In_Current_City_Years_index',\n",
        " 'Product_Category_1_index',\n",
        " 'Marital_Status_index',\n",
        " 'Occupation_index',\n",
        " 'Product_Category_2_index'], outputCol='features')"
      ],
      "metadata": {
        "id": "lbfIf2aeXUPM"
      },
      "execution_count": 224,
      "outputs": []
    },
    {
      "cell_type": "code",
      "source": [
        "bftestdf=assembler.transform(bftestdf)"
      ],
      "metadata": {
        "id": "SyCZ6KexXgkC"
      },
      "execution_count": 225,
      "outputs": []
    },
    {
      "cell_type": "code",
      "source": [
        "bftestdf=regmodel.transform(bftestdf)"
      ],
      "metadata": {
        "id": "CrUUDPp2XyDo"
      },
      "execution_count": 226,
      "outputs": []
    },
    {
      "cell_type": "code",
      "source": [
        "from pyspark.ml.regression import DecisionTreeRegressor"
      ],
      "metadata": {
        "id": "ubR84YIFYLAi"
      },
      "execution_count": 227,
      "outputs": []
    },
    {
      "cell_type": "code",
      "source": [
        "tree=DecisionTreeRegressor(featuresCol='features',labelCol='label', maxBins=40)"
      ],
      "metadata": {
        "id": "imFnXNdQboZl"
      },
      "execution_count": 228,
      "outputs": []
    },
    {
      "cell_type": "code",
      "source": [
        "treemodel=tree.fit(output)"
      ],
      "metadata": {
        "id": "pcDCkdLCbX4X"
      },
      "execution_count": 229,
      "outputs": []
    },
    {
      "cell_type": "code",
      "source": [
        "\n",
        "treemodel.featureImportances"
      ],
      "metadata": {
        "colab": {
          "base_uri": "https://localhost:8080/"
        },
        "id": "MMbEPfNzbjw9",
        "outputId": "18d09a96-d914-43f9-bb0d-c8e19caf53f4"
      },
      "execution_count": 230,
      "outputs": [
        {
          "output_type": "execute_result",
          "data": {
            "text/plain": [
              "SparseVector(9, {0: 0.0069, 1: 0.0001, 2: 0.0001, 3: 0.0, 5: 0.9877, 8: 0.0053})"
            ]
          },
          "metadata": {},
          "execution_count": 230
        }
      ]
    },
    {
      "cell_type": "code",
      "source": [
        "bftestdf=bftestdf.drop('prediction')"
      ],
      "metadata": {
        "id": "sB0Yk4c7cYcQ"
      },
      "execution_count": 231,
      "outputs": []
    },
    {
      "cell_type": "code",
      "source": [
        "bftestdf=treemodel.transform(bftestdf)"
      ],
      "metadata": {
        "id": "PcGJMOdieU7y"
      },
      "execution_count": 232,
      "outputs": []
    },
    {
      "cell_type": "code",
      "source": [
        "bftestdf.select('prediction').show(5)"
      ],
      "metadata": {
        "colab": {
          "base_uri": "https://localhost:8080/"
        },
        "id": "IBEkq5XreZIg",
        "outputId": "341d0e42-8b00-422f-e288-39fb3433751c"
      },
      "execution_count": 237,
      "outputs": [
        {
          "output_type": "stream",
          "name": "stdout",
          "text": [
            "+------------------+\n",
            "|        prediction|\n",
            "+------------------+\n",
            "|13374.789151742352|\n",
            "|11629.629884169884|\n",
            "| 6146.131335728846|\n",
            "| 2125.686569280953|\n",
            "|2646.6090788893785|\n",
            "+------------------+\n",
            "only showing top 5 rows\n",
            "\n"
          ]
        }
      ]
    },
    {
      "cell_type": "code",
      "source": [
        "bftestdf.toPandas().to_csv('tree.csv')"
      ],
      "metadata": {
        "id": "F2OBToSceb9a"
      },
      "execution_count": 238,
      "outputs": []
    },
    {
      "cell_type": "code",
      "source": [
        ""
      ],
      "metadata": {
        "id": "d2MYFzW7e7fy"
      },
      "execution_count": null,
      "outputs": []
    }
  ]
}