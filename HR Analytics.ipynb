{
 "cells": [
  {
   "cell_type": "code",
   "execution_count": 43,
   "id": "a7323524",
   "metadata": {},
   "outputs": [],
   "source": [
    "import pandas as pd\n",
    "import numpy as np\n",
    "import matplotlib.pyplot as plt\n",
    "%matplotlib inline"
   ]
  },
  {
   "cell_type": "code",
   "execution_count": 44,
   "id": "3aea8257",
   "metadata": {},
   "outputs": [
    {
     "name": "stdout",
     "output_type": "stream",
     "text": [
      "C:\\Users\\RIYAZROSHAN\\Desktop\n"
     ]
    }
   ],
   "source": [
    "import io\n",
    "%cd \"C:\\Users\\RIYAZROSHAN\\Desktop\""
   ]
  },
  {
   "cell_type": "code",
   "execution_count": 45,
   "id": "2b626c62",
   "metadata": {},
   "outputs": [],
   "source": [
    "hrtrain=pd.read_csv(\"train_LZdllcl.CSV\")"
   ]
  },
  {
   "cell_type": "code",
   "execution_count": 46,
   "id": "0e7b8ce4",
   "metadata": {},
   "outputs": [],
   "source": [
    "hrtest=pd.read_csv(\"test_2umaH9m.CSV\")"
   ]
  },
  {
   "cell_type": "code",
   "execution_count": 47,
   "id": "faa32285",
   "metadata": {},
   "outputs": [
    {
     "data": {
      "text/html": [
       "<div>\n",
       "<style scoped>\n",
       "    .dataframe tbody tr th:only-of-type {\n",
       "        vertical-align: middle;\n",
       "    }\n",
       "\n",
       "    .dataframe tbody tr th {\n",
       "        vertical-align: top;\n",
       "    }\n",
       "\n",
       "    .dataframe thead th {\n",
       "        text-align: right;\n",
       "    }\n",
       "</style>\n",
       "<table border=\"1\" class=\"dataframe\">\n",
       "  <thead>\n",
       "    <tr style=\"text-align: right;\">\n",
       "      <th></th>\n",
       "      <th>employee_id</th>\n",
       "      <th>department</th>\n",
       "      <th>region</th>\n",
       "      <th>education</th>\n",
       "      <th>gender</th>\n",
       "      <th>recruitment_channel</th>\n",
       "      <th>no_of_trainings</th>\n",
       "      <th>age</th>\n",
       "      <th>previous_year_rating</th>\n",
       "      <th>length_of_service</th>\n",
       "      <th>KPIs_met &gt;80%</th>\n",
       "      <th>awards_won?</th>\n",
       "      <th>avg_training_score</th>\n",
       "    </tr>\n",
       "  </thead>\n",
       "  <tbody>\n",
       "    <tr>\n",
       "      <th>0</th>\n",
       "      <td>8724</td>\n",
       "      <td>Technology</td>\n",
       "      <td>region_26</td>\n",
       "      <td>Bachelor's</td>\n",
       "      <td>m</td>\n",
       "      <td>sourcing</td>\n",
       "      <td>1</td>\n",
       "      <td>24</td>\n",
       "      <td>NaN</td>\n",
       "      <td>1</td>\n",
       "      <td>1</td>\n",
       "      <td>0</td>\n",
       "      <td>77</td>\n",
       "    </tr>\n",
       "    <tr>\n",
       "      <th>1</th>\n",
       "      <td>74430</td>\n",
       "      <td>HR</td>\n",
       "      <td>region_4</td>\n",
       "      <td>Bachelor's</td>\n",
       "      <td>f</td>\n",
       "      <td>other</td>\n",
       "      <td>1</td>\n",
       "      <td>31</td>\n",
       "      <td>3.0</td>\n",
       "      <td>5</td>\n",
       "      <td>0</td>\n",
       "      <td>0</td>\n",
       "      <td>51</td>\n",
       "    </tr>\n",
       "    <tr>\n",
       "      <th>2</th>\n",
       "      <td>72255</td>\n",
       "      <td>Sales &amp; Marketing</td>\n",
       "      <td>region_13</td>\n",
       "      <td>Bachelor's</td>\n",
       "      <td>m</td>\n",
       "      <td>other</td>\n",
       "      <td>1</td>\n",
       "      <td>31</td>\n",
       "      <td>1.0</td>\n",
       "      <td>4</td>\n",
       "      <td>0</td>\n",
       "      <td>0</td>\n",
       "      <td>47</td>\n",
       "    </tr>\n",
       "    <tr>\n",
       "      <th>3</th>\n",
       "      <td>38562</td>\n",
       "      <td>Procurement</td>\n",
       "      <td>region_2</td>\n",
       "      <td>Bachelor's</td>\n",
       "      <td>f</td>\n",
       "      <td>other</td>\n",
       "      <td>3</td>\n",
       "      <td>31</td>\n",
       "      <td>2.0</td>\n",
       "      <td>9</td>\n",
       "      <td>0</td>\n",
       "      <td>0</td>\n",
       "      <td>65</td>\n",
       "    </tr>\n",
       "    <tr>\n",
       "      <th>4</th>\n",
       "      <td>64486</td>\n",
       "      <td>Finance</td>\n",
       "      <td>region_29</td>\n",
       "      <td>Bachelor's</td>\n",
       "      <td>m</td>\n",
       "      <td>sourcing</td>\n",
       "      <td>1</td>\n",
       "      <td>30</td>\n",
       "      <td>4.0</td>\n",
       "      <td>7</td>\n",
       "      <td>0</td>\n",
       "      <td>0</td>\n",
       "      <td>61</td>\n",
       "    </tr>\n",
       "  </tbody>\n",
       "</table>\n",
       "</div>"
      ],
      "text/plain": [
       "   employee_id         department     region   education gender  \\\n",
       "0         8724         Technology  region_26  Bachelor's      m   \n",
       "1        74430                 HR   region_4  Bachelor's      f   \n",
       "2        72255  Sales & Marketing  region_13  Bachelor's      m   \n",
       "3        38562        Procurement   region_2  Bachelor's      f   \n",
       "4        64486            Finance  region_29  Bachelor's      m   \n",
       "\n",
       "  recruitment_channel  no_of_trainings  age  previous_year_rating  \\\n",
       "0            sourcing                1   24                   NaN   \n",
       "1               other                1   31                   3.0   \n",
       "2               other                1   31                   1.0   \n",
       "3               other                3   31                   2.0   \n",
       "4            sourcing                1   30                   4.0   \n",
       "\n",
       "   length_of_service  KPIs_met >80%  awards_won?  avg_training_score  \n",
       "0                  1              1            0                  77  \n",
       "1                  5              0            0                  51  \n",
       "2                  4              0            0                  47  \n",
       "3                  9              0            0                  65  \n",
       "4                  7              0            0                  61  "
      ]
     },
     "execution_count": 47,
     "metadata": {},
     "output_type": "execute_result"
    }
   ],
   "source": [
    "hrtest.head()"
   ]
  },
  {
   "cell_type": "code",
   "execution_count": 48,
   "id": "122f4562",
   "metadata": {},
   "outputs": [
    {
     "data": {
      "text/html": [
       "<div>\n",
       "<style scoped>\n",
       "    .dataframe tbody tr th:only-of-type {\n",
       "        vertical-align: middle;\n",
       "    }\n",
       "\n",
       "    .dataframe tbody tr th {\n",
       "        vertical-align: top;\n",
       "    }\n",
       "\n",
       "    .dataframe thead th {\n",
       "        text-align: right;\n",
       "    }\n",
       "</style>\n",
       "<table border=\"1\" class=\"dataframe\">\n",
       "  <thead>\n",
       "    <tr style=\"text-align: right;\">\n",
       "      <th></th>\n",
       "      <th>employee_id</th>\n",
       "      <th>department</th>\n",
       "      <th>region</th>\n",
       "      <th>education</th>\n",
       "      <th>gender</th>\n",
       "      <th>recruitment_channel</th>\n",
       "      <th>no_of_trainings</th>\n",
       "      <th>age</th>\n",
       "      <th>previous_year_rating</th>\n",
       "      <th>length_of_service</th>\n",
       "      <th>KPIs_met &gt;80%</th>\n",
       "      <th>awards_won?</th>\n",
       "      <th>avg_training_score</th>\n",
       "      <th>is_promoted</th>\n",
       "    </tr>\n",
       "  </thead>\n",
       "  <tbody>\n",
       "    <tr>\n",
       "      <th>0</th>\n",
       "      <td>65438</td>\n",
       "      <td>Sales &amp; Marketing</td>\n",
       "      <td>region_7</td>\n",
       "      <td>Master's &amp; above</td>\n",
       "      <td>f</td>\n",
       "      <td>sourcing</td>\n",
       "      <td>1</td>\n",
       "      <td>35</td>\n",
       "      <td>5.0</td>\n",
       "      <td>8</td>\n",
       "      <td>1</td>\n",
       "      <td>0</td>\n",
       "      <td>49</td>\n",
       "      <td>0</td>\n",
       "    </tr>\n",
       "    <tr>\n",
       "      <th>1</th>\n",
       "      <td>65141</td>\n",
       "      <td>Operations</td>\n",
       "      <td>region_22</td>\n",
       "      <td>Bachelor's</td>\n",
       "      <td>m</td>\n",
       "      <td>other</td>\n",
       "      <td>1</td>\n",
       "      <td>30</td>\n",
       "      <td>5.0</td>\n",
       "      <td>4</td>\n",
       "      <td>0</td>\n",
       "      <td>0</td>\n",
       "      <td>60</td>\n",
       "      <td>0</td>\n",
       "    </tr>\n",
       "    <tr>\n",
       "      <th>2</th>\n",
       "      <td>7513</td>\n",
       "      <td>Sales &amp; Marketing</td>\n",
       "      <td>region_19</td>\n",
       "      <td>Bachelor's</td>\n",
       "      <td>m</td>\n",
       "      <td>sourcing</td>\n",
       "      <td>1</td>\n",
       "      <td>34</td>\n",
       "      <td>3.0</td>\n",
       "      <td>7</td>\n",
       "      <td>0</td>\n",
       "      <td>0</td>\n",
       "      <td>50</td>\n",
       "      <td>0</td>\n",
       "    </tr>\n",
       "    <tr>\n",
       "      <th>3</th>\n",
       "      <td>2542</td>\n",
       "      <td>Sales &amp; Marketing</td>\n",
       "      <td>region_23</td>\n",
       "      <td>Bachelor's</td>\n",
       "      <td>m</td>\n",
       "      <td>other</td>\n",
       "      <td>2</td>\n",
       "      <td>39</td>\n",
       "      <td>1.0</td>\n",
       "      <td>10</td>\n",
       "      <td>0</td>\n",
       "      <td>0</td>\n",
       "      <td>50</td>\n",
       "      <td>0</td>\n",
       "    </tr>\n",
       "    <tr>\n",
       "      <th>4</th>\n",
       "      <td>48945</td>\n",
       "      <td>Technology</td>\n",
       "      <td>region_26</td>\n",
       "      <td>Bachelor's</td>\n",
       "      <td>m</td>\n",
       "      <td>other</td>\n",
       "      <td>1</td>\n",
       "      <td>45</td>\n",
       "      <td>3.0</td>\n",
       "      <td>2</td>\n",
       "      <td>0</td>\n",
       "      <td>0</td>\n",
       "      <td>73</td>\n",
       "      <td>0</td>\n",
       "    </tr>\n",
       "  </tbody>\n",
       "</table>\n",
       "</div>"
      ],
      "text/plain": [
       "   employee_id         department     region         education gender  \\\n",
       "0        65438  Sales & Marketing   region_7  Master's & above      f   \n",
       "1        65141         Operations  region_22        Bachelor's      m   \n",
       "2         7513  Sales & Marketing  region_19        Bachelor's      m   \n",
       "3         2542  Sales & Marketing  region_23        Bachelor's      m   \n",
       "4        48945         Technology  region_26        Bachelor's      m   \n",
       "\n",
       "  recruitment_channel  no_of_trainings  age  previous_year_rating  \\\n",
       "0            sourcing                1   35                   5.0   \n",
       "1               other                1   30                   5.0   \n",
       "2            sourcing                1   34                   3.0   \n",
       "3               other                2   39                   1.0   \n",
       "4               other                1   45                   3.0   \n",
       "\n",
       "   length_of_service  KPIs_met >80%  awards_won?  avg_training_score  \\\n",
       "0                  8              1            0                  49   \n",
       "1                  4              0            0                  60   \n",
       "2                  7              0            0                  50   \n",
       "3                 10              0            0                  50   \n",
       "4                  2              0            0                  73   \n",
       "\n",
       "   is_promoted  \n",
       "0            0  \n",
       "1            0  \n",
       "2            0  \n",
       "3            0  \n",
       "4            0  "
      ]
     },
     "execution_count": 48,
     "metadata": {},
     "output_type": "execute_result"
    }
   ],
   "source": [
    "hrtrain.head()"
   ]
  },
  {
   "cell_type": "code",
   "execution_count": 49,
   "id": "c571c2a5",
   "metadata": {},
   "outputs": [
    {
     "name": "stdout",
     "output_type": "stream",
     "text": [
      "(54808, 14)\n",
      "(23490, 13)\n"
     ]
    }
   ],
   "source": [
    "print(hrtrain.shape)\n",
    "print(hrtest.shape)"
   ]
  },
  {
   "cell_type": "code",
   "execution_count": 50,
   "id": "e1ec1cd3",
   "metadata": {},
   "outputs": [
    {
     "data": {
      "text/plain": [
       "employee_id               int64\n",
       "department               object\n",
       "region                   object\n",
       "education                object\n",
       "gender                   object\n",
       "recruitment_channel      object\n",
       "no_of_trainings           int64\n",
       "age                       int64\n",
       "previous_year_rating    float64\n",
       "length_of_service         int64\n",
       "KPIs_met >80%             int64\n",
       "awards_won?               int64\n",
       "avg_training_score        int64\n",
       "dtype: object"
      ]
     },
     "execution_count": 50,
     "metadata": {},
     "output_type": "execute_result"
    }
   ],
   "source": [
    "hrtest.dtypes"
   ]
  },
  {
   "cell_type": "code",
   "execution_count": 51,
   "id": "2970b235",
   "metadata": {},
   "outputs": [
    {
     "data": {
      "text/plain": [
       "employee_id               int64\n",
       "department               object\n",
       "region                   object\n",
       "education                object\n",
       "gender                   object\n",
       "recruitment_channel      object\n",
       "no_of_trainings           int64\n",
       "age                       int64\n",
       "previous_year_rating    float64\n",
       "length_of_service         int64\n",
       "KPIs_met >80%             int64\n",
       "awards_won?               int64\n",
       "avg_training_score        int64\n",
       "is_promoted               int64\n",
       "dtype: object"
      ]
     },
     "execution_count": 51,
     "metadata": {},
     "output_type": "execute_result"
    }
   ],
   "source": [
    "hrtrain.dtypes"
   ]
  },
  {
   "cell_type": "code",
   "execution_count": 52,
   "id": "bbc1e658",
   "metadata": {},
   "outputs": [],
   "source": [
    "hrtest['is_promoted']='test'"
   ]
  },
  {
   "cell_type": "code",
   "execution_count": 53,
   "id": "3a44131f",
   "metadata": {},
   "outputs": [
    {
     "data": {
      "text/html": [
       "<div>\n",
       "<style scoped>\n",
       "    .dataframe tbody tr th:only-of-type {\n",
       "        vertical-align: middle;\n",
       "    }\n",
       "\n",
       "    .dataframe tbody tr th {\n",
       "        vertical-align: top;\n",
       "    }\n",
       "\n",
       "    .dataframe thead th {\n",
       "        text-align: right;\n",
       "    }\n",
       "</style>\n",
       "<table border=\"1\" class=\"dataframe\">\n",
       "  <thead>\n",
       "    <tr style=\"text-align: right;\">\n",
       "      <th></th>\n",
       "      <th>employee_id</th>\n",
       "      <th>department</th>\n",
       "      <th>region</th>\n",
       "      <th>education</th>\n",
       "      <th>gender</th>\n",
       "      <th>recruitment_channel</th>\n",
       "      <th>no_of_trainings</th>\n",
       "      <th>age</th>\n",
       "      <th>previous_year_rating</th>\n",
       "      <th>length_of_service</th>\n",
       "      <th>KPIs_met &gt;80%</th>\n",
       "      <th>awards_won?</th>\n",
       "      <th>avg_training_score</th>\n",
       "      <th>is_promoted</th>\n",
       "    </tr>\n",
       "  </thead>\n",
       "  <tbody>\n",
       "    <tr>\n",
       "      <th>0</th>\n",
       "      <td>8724</td>\n",
       "      <td>Technology</td>\n",
       "      <td>region_26</td>\n",
       "      <td>Bachelor's</td>\n",
       "      <td>m</td>\n",
       "      <td>sourcing</td>\n",
       "      <td>1</td>\n",
       "      <td>24</td>\n",
       "      <td>NaN</td>\n",
       "      <td>1</td>\n",
       "      <td>1</td>\n",
       "      <td>0</td>\n",
       "      <td>77</td>\n",
       "      <td>test</td>\n",
       "    </tr>\n",
       "    <tr>\n",
       "      <th>1</th>\n",
       "      <td>74430</td>\n",
       "      <td>HR</td>\n",
       "      <td>region_4</td>\n",
       "      <td>Bachelor's</td>\n",
       "      <td>f</td>\n",
       "      <td>other</td>\n",
       "      <td>1</td>\n",
       "      <td>31</td>\n",
       "      <td>3.0</td>\n",
       "      <td>5</td>\n",
       "      <td>0</td>\n",
       "      <td>0</td>\n",
       "      <td>51</td>\n",
       "      <td>test</td>\n",
       "    </tr>\n",
       "    <tr>\n",
       "      <th>2</th>\n",
       "      <td>72255</td>\n",
       "      <td>Sales &amp; Marketing</td>\n",
       "      <td>region_13</td>\n",
       "      <td>Bachelor's</td>\n",
       "      <td>m</td>\n",
       "      <td>other</td>\n",
       "      <td>1</td>\n",
       "      <td>31</td>\n",
       "      <td>1.0</td>\n",
       "      <td>4</td>\n",
       "      <td>0</td>\n",
       "      <td>0</td>\n",
       "      <td>47</td>\n",
       "      <td>test</td>\n",
       "    </tr>\n",
       "    <tr>\n",
       "      <th>3</th>\n",
       "      <td>38562</td>\n",
       "      <td>Procurement</td>\n",
       "      <td>region_2</td>\n",
       "      <td>Bachelor's</td>\n",
       "      <td>f</td>\n",
       "      <td>other</td>\n",
       "      <td>3</td>\n",
       "      <td>31</td>\n",
       "      <td>2.0</td>\n",
       "      <td>9</td>\n",
       "      <td>0</td>\n",
       "      <td>0</td>\n",
       "      <td>65</td>\n",
       "      <td>test</td>\n",
       "    </tr>\n",
       "    <tr>\n",
       "      <th>4</th>\n",
       "      <td>64486</td>\n",
       "      <td>Finance</td>\n",
       "      <td>region_29</td>\n",
       "      <td>Bachelor's</td>\n",
       "      <td>m</td>\n",
       "      <td>sourcing</td>\n",
       "      <td>1</td>\n",
       "      <td>30</td>\n",
       "      <td>4.0</td>\n",
       "      <td>7</td>\n",
       "      <td>0</td>\n",
       "      <td>0</td>\n",
       "      <td>61</td>\n",
       "      <td>test</td>\n",
       "    </tr>\n",
       "  </tbody>\n",
       "</table>\n",
       "</div>"
      ],
      "text/plain": [
       "   employee_id         department     region   education gender  \\\n",
       "0         8724         Technology  region_26  Bachelor's      m   \n",
       "1        74430                 HR   region_4  Bachelor's      f   \n",
       "2        72255  Sales & Marketing  region_13  Bachelor's      m   \n",
       "3        38562        Procurement   region_2  Bachelor's      f   \n",
       "4        64486            Finance  region_29  Bachelor's      m   \n",
       "\n",
       "  recruitment_channel  no_of_trainings  age  previous_year_rating  \\\n",
       "0            sourcing                1   24                   NaN   \n",
       "1               other                1   31                   3.0   \n",
       "2               other                1   31                   1.0   \n",
       "3               other                3   31                   2.0   \n",
       "4            sourcing                1   30                   4.0   \n",
       "\n",
       "   length_of_service  KPIs_met >80%  awards_won?  avg_training_score  \\\n",
       "0                  1              1            0                  77   \n",
       "1                  5              0            0                  51   \n",
       "2                  4              0            0                  47   \n",
       "3                  9              0            0                  65   \n",
       "4                  7              0            0                  61   \n",
       "\n",
       "  is_promoted  \n",
       "0        test  \n",
       "1        test  \n",
       "2        test  \n",
       "3        test  \n",
       "4        test  "
      ]
     },
     "execution_count": 53,
     "metadata": {},
     "output_type": "execute_result"
    }
   ],
   "source": [
    "hrtest.head()"
   ]
  },
  {
   "cell_type": "code",
   "execution_count": 54,
   "id": "63cadc7d",
   "metadata": {},
   "outputs": [
    {
     "data": {
      "text/plain": [
       "employee_id               int64\n",
       "department               object\n",
       "region                   object\n",
       "education                object\n",
       "gender                   object\n",
       "recruitment_channel      object\n",
       "no_of_trainings           int64\n",
       "age                       int64\n",
       "previous_year_rating    float64\n",
       "length_of_service         int64\n",
       "KPIs_met >80%             int64\n",
       "awards_won?               int64\n",
       "avg_training_score        int64\n",
       "is_promoted              object\n",
       "dtype: object"
      ]
     },
     "execution_count": 54,
     "metadata": {},
     "output_type": "execute_result"
    }
   ],
   "source": [
    "hrtest.dtypes"
   ]
  },
  {
   "cell_type": "code",
   "execution_count": 55,
   "id": "8f19c38d",
   "metadata": {},
   "outputs": [],
   "source": [
    "combinedf=pd.concat([hrtrain,hrtest],axis=0)"
   ]
  },
  {
   "cell_type": "code",
   "execution_count": 56,
   "id": "b0ee4c51",
   "metadata": {},
   "outputs": [
    {
     "data": {
      "text/plain": [
       "(78298, 14)"
      ]
     },
     "execution_count": 56,
     "metadata": {},
     "output_type": "execute_result"
    }
   ],
   "source": [
    "combinedf.shape"
   ]
  },
  {
   "cell_type": "code",
   "execution_count": 57,
   "id": "e871c99d",
   "metadata": {},
   "outputs": [
    {
     "data": {
      "text/plain": [
       "previous_year_rating    5936\n",
       "education               3443\n",
       "employee_id                0\n",
       "department                 0\n",
       "region                     0\n",
       "gender                     0\n",
       "recruitment_channel        0\n",
       "no_of_trainings            0\n",
       "age                        0\n",
       "length_of_service          0\n",
       "KPIs_met >80%              0\n",
       "awards_won?                0\n",
       "avg_training_score         0\n",
       "is_promoted                0\n",
       "dtype: int64"
      ]
     },
     "execution_count": 57,
     "metadata": {},
     "output_type": "execute_result"
    }
   ],
   "source": [
    "combinedf.isnull().sum().sort_values(ascending = False)"
   ]
  },
  {
   "cell_type": "code",
   "execution_count": 58,
   "id": "b6e5635a",
   "metadata": {},
   "outputs": [
    {
     "data": {
      "text/plain": [
       "3.0    26539\n",
       "5.0    16838\n",
       "4.0    14126\n",
       "1.0     8903\n",
       "2.0     5956\n",
       "NaN     5936\n",
       "Name: previous_year_rating, dtype: int64"
      ]
     },
     "execution_count": 58,
     "metadata": {},
     "output_type": "execute_result"
    }
   ],
   "source": [
    "combinedf.previous_year_rating.value_counts(dropna=False)"
   ]
  },
  {
   "cell_type": "code",
   "execution_count": 59,
   "id": "9f58e079",
   "metadata": {},
   "outputs": [],
   "source": [
    "combinedf.previous_year_rating=combinedf.previous_year_rating.fillna(combinedf.previous_year_rating.value_counts().idxmax())"
   ]
  },
  {
   "cell_type": "code",
   "execution_count": 60,
   "id": "8469215a",
   "metadata": {},
   "outputs": [],
   "source": [
    "combinedf.education=combinedf.education.fillna(combinedf.education.value_counts().idxmax())"
   ]
  },
  {
   "cell_type": "code",
   "execution_count": 61,
   "id": "d2d5526b",
   "metadata": {},
   "outputs": [],
   "source": [
    "numericcols=combinedf.select_dtypes(include=np.number)\n",
    "objectcols=combinedf.select_dtypes(include=['object'])"
   ]
  },
  {
   "cell_type": "code",
   "execution_count": 62,
   "id": "2d2db397",
   "metadata": {},
   "outputs": [
    {
     "name": "stdout",
     "output_type": "stream",
     "text": [
      "(78298, 8)\n",
      "(78298, 6)\n"
     ]
    }
   ],
   "source": [
    "print(numericcols.shape)\n",
    "print(objectcols.shape)"
   ]
  },
  {
   "cell_type": "code",
   "execution_count": 63,
   "id": "fd47a444",
   "metadata": {},
   "outputs": [],
   "source": [
    "categorycols=numericcols[['previous_year_rating','KPIs_met >80%','awards_won?']]"
   ]
  },
  {
   "cell_type": "code",
   "execution_count": 64,
   "id": "bcf86ef4",
   "metadata": {},
   "outputs": [],
   "source": [
    "numericcols=numericcols.drop(['previous_year_rating','KPIs_met >80%','awards_won?'],axis=1)"
   ]
  },
  {
   "cell_type": "code",
   "execution_count": 65,
   "id": "64fff19a",
   "metadata": {},
   "outputs": [
    {
     "data": {
      "text/plain": [
       "(78298, 5)"
      ]
     },
     "execution_count": 65,
     "metadata": {},
     "output_type": "execute_result"
    }
   ],
   "source": [
    "numericcols.shape"
   ]
  },
  {
   "cell_type": "code",
   "execution_count": 66,
   "id": "d62b322d",
   "metadata": {},
   "outputs": [],
   "source": [
    "from sklearn.preprocessing import LabelEncoder"
   ]
  },
  {
   "cell_type": "code",
   "execution_count": 67,
   "id": "77862278",
   "metadata": {},
   "outputs": [],
   "source": [
    "le=LabelEncoder()"
   ]
  },
  {
   "cell_type": "code",
   "execution_count": 68,
   "id": "2adf3bf3",
   "metadata": {},
   "outputs": [
    {
     "data": {
      "text/html": [
       "<div>\n",
       "<style scoped>\n",
       "    .dataframe tbody tr th:only-of-type {\n",
       "        vertical-align: middle;\n",
       "    }\n",
       "\n",
       "    .dataframe tbody tr th {\n",
       "        vertical-align: top;\n",
       "    }\n",
       "\n",
       "    .dataframe thead th {\n",
       "        text-align: right;\n",
       "    }\n",
       "</style>\n",
       "<table border=\"1\" class=\"dataframe\">\n",
       "  <thead>\n",
       "    <tr style=\"text-align: right;\">\n",
       "      <th></th>\n",
       "      <th>employee_id</th>\n",
       "      <th>no_of_trainings</th>\n",
       "      <th>age</th>\n",
       "      <th>length_of_service</th>\n",
       "      <th>avg_training_score</th>\n",
       "    </tr>\n",
       "  </thead>\n",
       "  <tbody>\n",
       "    <tr>\n",
       "      <th>0</th>\n",
       "      <td>65438</td>\n",
       "      <td>1</td>\n",
       "      <td>35</td>\n",
       "      <td>8</td>\n",
       "      <td>49</td>\n",
       "    </tr>\n",
       "    <tr>\n",
       "      <th>1</th>\n",
       "      <td>65141</td>\n",
       "      <td>1</td>\n",
       "      <td>30</td>\n",
       "      <td>4</td>\n",
       "      <td>60</td>\n",
       "    </tr>\n",
       "    <tr>\n",
       "      <th>2</th>\n",
       "      <td>7513</td>\n",
       "      <td>1</td>\n",
       "      <td>34</td>\n",
       "      <td>7</td>\n",
       "      <td>50</td>\n",
       "    </tr>\n",
       "    <tr>\n",
       "      <th>3</th>\n",
       "      <td>2542</td>\n",
       "      <td>2</td>\n",
       "      <td>39</td>\n",
       "      <td>10</td>\n",
       "      <td>50</td>\n",
       "    </tr>\n",
       "    <tr>\n",
       "      <th>4</th>\n",
       "      <td>48945</td>\n",
       "      <td>1</td>\n",
       "      <td>45</td>\n",
       "      <td>2</td>\n",
       "      <td>73</td>\n",
       "    </tr>\n",
       "  </tbody>\n",
       "</table>\n",
       "</div>"
      ],
      "text/plain": [
       "   employee_id  no_of_trainings  age  length_of_service  avg_training_score\n",
       "0        65438                1   35                  8                  49\n",
       "1        65141                1   30                  4                  60\n",
       "2         7513                1   34                  7                  50\n",
       "3         2542                2   39                 10                  50\n",
       "4        48945                1   45                  2                  73"
      ]
     },
     "execution_count": 68,
     "metadata": {},
     "output_type": "execute_result"
    }
   ],
   "source": [
    "numericcols.head()"
   ]
  },
  {
   "cell_type": "code",
   "execution_count": 69,
   "id": "a9460bb8",
   "metadata": {},
   "outputs": [
    {
     "data": {
      "text/html": [
       "<div>\n",
       "<style scoped>\n",
       "    .dataframe tbody tr th:only-of-type {\n",
       "        vertical-align: middle;\n",
       "    }\n",
       "\n",
       "    .dataframe tbody tr th {\n",
       "        vertical-align: top;\n",
       "    }\n",
       "\n",
       "    .dataframe thead th {\n",
       "        text-align: right;\n",
       "    }\n",
       "</style>\n",
       "<table border=\"1\" class=\"dataframe\">\n",
       "  <thead>\n",
       "    <tr style=\"text-align: right;\">\n",
       "      <th></th>\n",
       "      <th>department</th>\n",
       "      <th>region</th>\n",
       "      <th>education</th>\n",
       "      <th>gender</th>\n",
       "      <th>recruitment_channel</th>\n",
       "      <th>is_promoted</th>\n",
       "    </tr>\n",
       "  </thead>\n",
       "  <tbody>\n",
       "    <tr>\n",
       "      <th>0</th>\n",
       "      <td>Sales &amp; Marketing</td>\n",
       "      <td>region_7</td>\n",
       "      <td>Master's &amp; above</td>\n",
       "      <td>f</td>\n",
       "      <td>sourcing</td>\n",
       "      <td>0</td>\n",
       "    </tr>\n",
       "    <tr>\n",
       "      <th>1</th>\n",
       "      <td>Operations</td>\n",
       "      <td>region_22</td>\n",
       "      <td>Bachelor's</td>\n",
       "      <td>m</td>\n",
       "      <td>other</td>\n",
       "      <td>0</td>\n",
       "    </tr>\n",
       "    <tr>\n",
       "      <th>2</th>\n",
       "      <td>Sales &amp; Marketing</td>\n",
       "      <td>region_19</td>\n",
       "      <td>Bachelor's</td>\n",
       "      <td>m</td>\n",
       "      <td>sourcing</td>\n",
       "      <td>0</td>\n",
       "    </tr>\n",
       "    <tr>\n",
       "      <th>3</th>\n",
       "      <td>Sales &amp; Marketing</td>\n",
       "      <td>region_23</td>\n",
       "      <td>Bachelor's</td>\n",
       "      <td>m</td>\n",
       "      <td>other</td>\n",
       "      <td>0</td>\n",
       "    </tr>\n",
       "    <tr>\n",
       "      <th>4</th>\n",
       "      <td>Technology</td>\n",
       "      <td>region_26</td>\n",
       "      <td>Bachelor's</td>\n",
       "      <td>m</td>\n",
       "      <td>other</td>\n",
       "      <td>0</td>\n",
       "    </tr>\n",
       "  </tbody>\n",
       "</table>\n",
       "</div>"
      ],
      "text/plain": [
       "          department     region         education gender recruitment_channel  \\\n",
       "0  Sales & Marketing   region_7  Master's & above      f            sourcing   \n",
       "1         Operations  region_22        Bachelor's      m               other   \n",
       "2  Sales & Marketing  region_19        Bachelor's      m            sourcing   \n",
       "3  Sales & Marketing  region_23        Bachelor's      m               other   \n",
       "4         Technology  region_26        Bachelor's      m               other   \n",
       "\n",
       "  is_promoted  \n",
       "0           0  \n",
       "1           0  \n",
       "2           0  \n",
       "3           0  \n",
       "4           0  "
      ]
     },
     "execution_count": 69,
     "metadata": {},
     "output_type": "execute_result"
    }
   ],
   "source": [
    "objectcols.head()"
   ]
  },
  {
   "cell_type": "code",
   "execution_count": 70,
   "id": "3c32bd33",
   "metadata": {},
   "outputs": [
    {
     "data": {
      "text/html": [
       "<div>\n",
       "<style scoped>\n",
       "    .dataframe tbody tr th:only-of-type {\n",
       "        vertical-align: middle;\n",
       "    }\n",
       "\n",
       "    .dataframe tbody tr th {\n",
       "        vertical-align: top;\n",
       "    }\n",
       "\n",
       "    .dataframe thead th {\n",
       "        text-align: right;\n",
       "    }\n",
       "</style>\n",
       "<table border=\"1\" class=\"dataframe\">\n",
       "  <thead>\n",
       "    <tr style=\"text-align: right;\">\n",
       "      <th></th>\n",
       "      <th>employee_id</th>\n",
       "      <th>no_of_trainings</th>\n",
       "      <th>age</th>\n",
       "      <th>length_of_service</th>\n",
       "      <th>avg_training_score</th>\n",
       "    </tr>\n",
       "  </thead>\n",
       "  <tbody>\n",
       "    <tr>\n",
       "      <th>23485</th>\n",
       "      <td>53478</td>\n",
       "      <td>1</td>\n",
       "      <td>24</td>\n",
       "      <td>1</td>\n",
       "      <td>61</td>\n",
       "    </tr>\n",
       "    <tr>\n",
       "      <th>23486</th>\n",
       "      <td>25600</td>\n",
       "      <td>1</td>\n",
       "      <td>31</td>\n",
       "      <td>7</td>\n",
       "      <td>74</td>\n",
       "    </tr>\n",
       "    <tr>\n",
       "      <th>23487</th>\n",
       "      <td>45409</td>\n",
       "      <td>1</td>\n",
       "      <td>26</td>\n",
       "      <td>4</td>\n",
       "      <td>50</td>\n",
       "    </tr>\n",
       "    <tr>\n",
       "      <th>23488</th>\n",
       "      <td>1186</td>\n",
       "      <td>3</td>\n",
       "      <td>27</td>\n",
       "      <td>1</td>\n",
       "      <td>70</td>\n",
       "    </tr>\n",
       "    <tr>\n",
       "      <th>23489</th>\n",
       "      <td>5973</td>\n",
       "      <td>3</td>\n",
       "      <td>40</td>\n",
       "      <td>5</td>\n",
       "      <td>89</td>\n",
       "    </tr>\n",
       "  </tbody>\n",
       "</table>\n",
       "</div>"
      ],
      "text/plain": [
       "       employee_id  no_of_trainings  age  length_of_service  \\\n",
       "23485        53478                1   24                  1   \n",
       "23486        25600                1   31                  7   \n",
       "23487        45409                1   26                  4   \n",
       "23488         1186                3   27                  1   \n",
       "23489         5973                3   40                  5   \n",
       "\n",
       "       avg_training_score  \n",
       "23485                  61  \n",
       "23486                  74  \n",
       "23487                  50  \n",
       "23488                  70  \n",
       "23489                  89  "
      ]
     },
     "execution_count": 70,
     "metadata": {},
     "output_type": "execute_result"
    }
   ],
   "source": [
    "numericcols.tail()"
   ]
  },
  {
   "cell_type": "code",
   "execution_count": 71,
   "id": "e15730c3",
   "metadata": {},
   "outputs": [],
   "source": [
    "numericcols['is_promoted']=objectcols.is_promoted"
   ]
  },
  {
   "cell_type": "raw",
   "id": "f205ac09",
   "metadata": {},
   "source": [
    "objectcols.head()"
   ]
  },
  {
   "cell_type": "code",
   "execution_count": 73,
   "id": "0d6d517e",
   "metadata": {},
   "outputs": [
    {
     "data": {
      "text/html": [
       "<div>\n",
       "<style scoped>\n",
       "    .dataframe tbody tr th:only-of-type {\n",
       "        vertical-align: middle;\n",
       "    }\n",
       "\n",
       "    .dataframe tbody tr th {\n",
       "        vertical-align: top;\n",
       "    }\n",
       "\n",
       "    .dataframe thead th {\n",
       "        text-align: right;\n",
       "    }\n",
       "</style>\n",
       "<table border=\"1\" class=\"dataframe\">\n",
       "  <thead>\n",
       "    <tr style=\"text-align: right;\">\n",
       "      <th></th>\n",
       "      <th>employee_id</th>\n",
       "      <th>no_of_trainings</th>\n",
       "      <th>age</th>\n",
       "      <th>length_of_service</th>\n",
       "      <th>avg_training_score</th>\n",
       "      <th>is_promoted</th>\n",
       "    </tr>\n",
       "  </thead>\n",
       "  <tbody>\n",
       "    <tr>\n",
       "      <th>23485</th>\n",
       "      <td>53478</td>\n",
       "      <td>1</td>\n",
       "      <td>24</td>\n",
       "      <td>1</td>\n",
       "      <td>61</td>\n",
       "      <td>test</td>\n",
       "    </tr>\n",
       "    <tr>\n",
       "      <th>23486</th>\n",
       "      <td>25600</td>\n",
       "      <td>1</td>\n",
       "      <td>31</td>\n",
       "      <td>7</td>\n",
       "      <td>74</td>\n",
       "      <td>test</td>\n",
       "    </tr>\n",
       "    <tr>\n",
       "      <th>23487</th>\n",
       "      <td>45409</td>\n",
       "      <td>1</td>\n",
       "      <td>26</td>\n",
       "      <td>4</td>\n",
       "      <td>50</td>\n",
       "      <td>test</td>\n",
       "    </tr>\n",
       "    <tr>\n",
       "      <th>23488</th>\n",
       "      <td>1186</td>\n",
       "      <td>3</td>\n",
       "      <td>27</td>\n",
       "      <td>1</td>\n",
       "      <td>70</td>\n",
       "      <td>test</td>\n",
       "    </tr>\n",
       "    <tr>\n",
       "      <th>23489</th>\n",
       "      <td>5973</td>\n",
       "      <td>3</td>\n",
       "      <td>40</td>\n",
       "      <td>5</td>\n",
       "      <td>89</td>\n",
       "      <td>test</td>\n",
       "    </tr>\n",
       "  </tbody>\n",
       "</table>\n",
       "</div>"
      ],
      "text/plain": [
       "       employee_id  no_of_trainings  age  length_of_service  \\\n",
       "23485        53478                1   24                  1   \n",
       "23486        25600                1   31                  7   \n",
       "23487        45409                1   26                  4   \n",
       "23488         1186                3   27                  1   \n",
       "23489         5973                3   40                  5   \n",
       "\n",
       "       avg_training_score is_promoted  \n",
       "23485                  61        test  \n",
       "23486                  74        test  \n",
       "23487                  50        test  \n",
       "23488                  70        test  \n",
       "23489                  89        test  "
      ]
     },
     "execution_count": 73,
     "metadata": {},
     "output_type": "execute_result"
    }
   ],
   "source": [
    "numericcols.tail()"
   ]
  },
  {
   "cell_type": "code",
   "execution_count": 74,
   "id": "f8aa0e38",
   "metadata": {},
   "outputs": [],
   "source": [
    "objectcols=objectcols.drop('is_promoted',axis=1)"
   ]
  },
  {
   "cell_type": "code",
   "execution_count": 75,
   "id": "a3e4dea1",
   "metadata": {},
   "outputs": [],
   "source": [
    "objectcolsdummy=objectcols.apply(le.fit_transform)"
   ]
  },
  {
   "cell_type": "code",
   "execution_count": 76,
   "id": "8a759535",
   "metadata": {},
   "outputs": [],
   "source": [
    "categorycolsdummy=categorycols.apply(le.fit_transform)"
   ]
  },
  {
   "cell_type": "code",
   "execution_count": 77,
   "id": "c2ae2b56",
   "metadata": {},
   "outputs": [],
   "source": [
    "combinedfclean=pd.concat([numericcols,objectcolsdummy,categorycolsdummy],axis=1)"
   ]
  },
  {
   "cell_type": "code",
   "execution_count": 78,
   "id": "ea190361",
   "metadata": {},
   "outputs": [],
   "source": [
    "hrtraindf=combinedfclean[combinedfclean.is_promoted!='test']\n",
    "hrtestdf=combinedfclean[combinedfclean.is_promoted=='test']"
   ]
  },
  {
   "cell_type": "code",
   "execution_count": 79,
   "id": "c5b3d5cf",
   "metadata": {},
   "outputs": [],
   "source": [
    "hrtestdf=hrtestdf.drop('is_promoted',axis=1)"
   ]
  },
  {
   "cell_type": "code",
   "execution_count": 80,
   "id": "730aa0c9",
   "metadata": {},
   "outputs": [],
   "source": [
    "promotedyes=hrtraindf[hrtraindf.is_promoted==1]\n",
    "promotedno=hrtraindf[hrtraindf.is_promoted==0]"
   ]
  },
  {
   "cell_type": "code",
   "execution_count": 81,
   "id": "930d87e6",
   "metadata": {},
   "outputs": [],
   "source": [
    "from scipy.stats import ttest_ind"
   ]
  },
  {
   "cell_type": "code",
   "execution_count": 82,
   "id": "3988cab7",
   "metadata": {},
   "outputs": [
    {
     "data": {
      "text/plain": [
       "Ttest_indResult(statistic=38.82675007357188, pvalue=7.662329172468838e-291)"
      ]
     },
     "execution_count": 82,
     "metadata": {},
     "output_type": "execute_result"
    }
   ],
   "source": [
    "ttest_ind(promotedyes.avg_training_score,promotedno.avg_training_score,equal_var=False)"
   ]
  },
  {
   "cell_type": "code",
   "execution_count": 86,
   "id": "39d1535b",
   "metadata": {},
   "outputs": [
    {
     "data": {
      "text/plain": [
       "is_promoted\n",
       "0    5.879398\n",
       "1    5.716367\n",
       "Name: length_of_service, dtype: float64"
      ]
     },
     "execution_count": 86,
     "metadata": {},
     "output_type": "execute_result"
    }
   ],
   "source": [
    "hrtraindf.length_of_service.groupby(hrtraindf.is_promoted).mean()"
   ]
  },
  {
   "cell_type": "code",
   "execution_count": 90,
   "id": "a9f35dfd",
   "metadata": {},
   "outputs": [
    {
     "data": {
      "text/plain": [
       "recruitment_channel\n",
       "0    63.362839\n",
       "1    66.182137\n",
       "2    63.280620\n",
       "Name: avg_training_score, dtype: float64"
      ]
     },
     "execution_count": 90,
     "metadata": {},
     "output_type": "execute_result"
    }
   ],
   "source": [
    "hrtraindf.avg_training_score.groupby(hrtraindf.recruitment_channel).mean()"
   ]
  },
  {
   "cell_type": "code",
   "execution_count": 91,
   "id": "82bf1ccf",
   "metadata": {},
   "outputs": [
    {
     "data": {
      "text/plain": [
       "other       30446\n",
       "sourcing    23220\n",
       "referred     1142\n",
       "Name: recruitment_channel, dtype: int64"
      ]
     },
     "execution_count": 91,
     "metadata": {},
     "output_type": "execute_result"
    }
   ],
   "source": [
    "hrtrain.recruitment_channel.value_counts()"
   ]
  },
  {
   "cell_type": "code",
   "execution_count": 93,
   "id": "e932d7be",
   "metadata": {},
   "outputs": [],
   "source": [
    "other=hrtraindf[hrtraindf.recruitment_channel==0]\n",
    "refer=hrtraindf[hrtraindf.recruitment_channel==1]\n",
    "source=hrtraindf[hrtraindf.recruitment_channel==2]"
   ]
  },
  {
   "cell_type": "code",
   "execution_count": 94,
   "id": "f6322612",
   "metadata": {},
   "outputs": [],
   "source": [
    "from scipy.stats import f_oneway"
   ]
  },
  {
   "cell_type": "code",
   "execution_count": 96,
   "id": "c254fa63",
   "metadata": {},
   "outputs": [
    {
     "data": {
      "text/plain": [
       "F_onewayResult(statistic=25.758203095600134, pvalue=6.585805990029605e-12)"
      ]
     },
     "execution_count": 96,
     "metadata": {},
     "output_type": "execute_result"
    }
   ],
   "source": [
    "f_oneway(other.avg_training_score,refer.avg_training_score,source.avg_training_score)"
   ]
  },
  {
   "cell_type": "code",
   "execution_count": 97,
   "id": "8d621320",
   "metadata": {},
   "outputs": [
    {
     "data": {
      "text/plain": [
       "F_onewayResult(statistic=25.31146884827052, pvalue=1.0290643395315436e-11)"
      ]
     },
     "execution_count": 97,
     "metadata": {},
     "output_type": "execute_result"
    }
   ],
   "source": [
    "f_oneway(other.length_of_service,refer.length_of_service,source.length_of_service)"
   ]
  },
  {
   "cell_type": "code",
   "execution_count": 98,
   "id": "03eaba75",
   "metadata": {},
   "outputs": [
    {
     "data": {
      "text/html": [
       "<div>\n",
       "<style scoped>\n",
       "    .dataframe tbody tr th:only-of-type {\n",
       "        vertical-align: middle;\n",
       "    }\n",
       "\n",
       "    .dataframe tbody tr th {\n",
       "        vertical-align: top;\n",
       "    }\n",
       "\n",
       "    .dataframe thead th {\n",
       "        text-align: right;\n",
       "    }\n",
       "</style>\n",
       "<table border=\"1\" class=\"dataframe\">\n",
       "  <thead>\n",
       "    <tr style=\"text-align: right;\">\n",
       "      <th>recruitment_channel</th>\n",
       "      <th>0</th>\n",
       "      <th>1</th>\n",
       "      <th>2</th>\n",
       "    </tr>\n",
       "    <tr>\n",
       "      <th>is_promoted</th>\n",
       "      <th></th>\n",
       "      <th></th>\n",
       "      <th></th>\n",
       "    </tr>\n",
       "  </thead>\n",
       "  <tbody>\n",
       "    <tr>\n",
       "      <th>0</th>\n",
       "      <td>27890</td>\n",
       "      <td>1004</td>\n",
       "      <td>21246</td>\n",
       "    </tr>\n",
       "    <tr>\n",
       "      <th>1</th>\n",
       "      <td>2556</td>\n",
       "      <td>138</td>\n",
       "      <td>1974</td>\n",
       "    </tr>\n",
       "  </tbody>\n",
       "</table>\n",
       "</div>"
      ],
      "text/plain": [
       "recruitment_channel      0     1      2\n",
       "is_promoted                            \n",
       "0                    27890  1004  21246\n",
       "1                     2556   138   1974"
      ]
     },
     "execution_count": 98,
     "metadata": {},
     "output_type": "execute_result"
    }
   ],
   "source": [
    "pd.crosstab(hrtraindf.is_promoted,hrtraindf.recruitment_channel)"
   ]
  },
  {
   "cell_type": "code",
   "execution_count": 99,
   "id": "480bd13d",
   "metadata": {},
   "outputs": [],
   "source": [
    "from scipy.stats import chi2_contingency"
   ]
  },
  {
   "cell_type": "code",
   "execution_count": 114,
   "id": "e61196b9",
   "metadata": {},
   "outputs": [
    {
     "data": {
      "text/plain": [
       "(19.23633518768639,\n",
       " 6.650937825577018e-05,\n",
       " 2,\n",
       " array([[27852.91271347,  1044.73580499, 21242.35148154],\n",
       "        [ 2593.08728653,    97.26419501,  1977.64851846]]))"
      ]
     },
     "execution_count": 114,
     "metadata": {},
     "output_type": "execute_result"
    }
   ],
   "source": [
    "chi2_contingency(pd.crosstab(hrtraindf.is_promoted,hrtraindf.recruitment_channel))"
   ]
  },
  {
   "cell_type": "code",
   "execution_count": 116,
   "id": "565e9e9b",
   "metadata": {},
   "outputs": [],
   "source": [
    "y = hrtraindf.is_promoted\n",
    "X= hrtraindf.drop(['employee_id','is_promoted'], axis = 1)"
   ]
  },
  {
   "cell_type": "code",
   "execution_count": 122,
   "id": "0ff9897d",
   "metadata": {},
   "outputs": [],
   "source": [
    "from sklearn.linear_model import LogisticRegression\n",
    "logit = LogisticRegression(max_iter=3000)"
   ]
  },
  {
   "cell_type": "code",
   "execution_count": 123,
   "id": "24a15b99",
   "metadata": {},
   "outputs": [],
   "source": [
    "y = le.fit_transform(y)"
   ]
  },
  {
   "cell_type": "code",
   "execution_count": 124,
   "id": "6077e85c",
   "metadata": {},
   "outputs": [],
   "source": [
    "logitmodel = logit.fit(X,y)"
   ]
  },
  {
   "cell_type": "code",
   "execution_count": 125,
   "id": "133e140b",
   "metadata": {},
   "outputs": [
    {
     "data": {
      "text/plain": [
       "0.9172018683403883"
      ]
     },
     "execution_count": 125,
     "metadata": {},
     "output_type": "execute_result"
    }
   ],
   "source": [
    "logitmodel.score(x,y)"
   ]
  },
  {
   "cell_type": "code",
   "execution_count": 126,
   "id": "caa099a9",
   "metadata": {},
   "outputs": [],
   "source": [
    "logitpredict=logitmodel.predict(x)"
   ]
  },
  {
   "cell_type": "code",
   "execution_count": 127,
   "id": "0654a614",
   "metadata": {},
   "outputs": [
    {
     "data": {
      "text/html": [
       "<div>\n",
       "<style scoped>\n",
       "    .dataframe tbody tr th:only-of-type {\n",
       "        vertical-align: middle;\n",
       "    }\n",
       "\n",
       "    .dataframe tbody tr th {\n",
       "        vertical-align: top;\n",
       "    }\n",
       "\n",
       "    .dataframe thead th {\n",
       "        text-align: right;\n",
       "    }\n",
       "</style>\n",
       "<table border=\"1\" class=\"dataframe\">\n",
       "  <thead>\n",
       "    <tr style=\"text-align: right;\">\n",
       "      <th>col_0</th>\n",
       "      <th>0</th>\n",
       "      <th>1</th>\n",
       "    </tr>\n",
       "    <tr>\n",
       "      <th>row_0</th>\n",
       "      <th></th>\n",
       "      <th></th>\n",
       "    </tr>\n",
       "  </thead>\n",
       "  <tbody>\n",
       "    <tr>\n",
       "      <th>0</th>\n",
       "      <td>49948</td>\n",
       "      <td>192</td>\n",
       "    </tr>\n",
       "    <tr>\n",
       "      <th>1</th>\n",
       "      <td>4346</td>\n",
       "      <td>322</td>\n",
       "    </tr>\n",
       "  </tbody>\n",
       "</table>\n",
       "</div>"
      ],
      "text/plain": [
       "col_0      0    1\n",
       "row_0            \n",
       "0      49948  192\n",
       "1       4346  322"
      ]
     },
     "execution_count": 127,
     "metadata": {},
     "output_type": "execute_result"
    }
   ],
   "source": [
    "pd.crosstab(y,logitpredict)"
   ]
  },
  {
   "cell_type": "code",
   "execution_count": 128,
   "id": "8a9384c2",
   "metadata": {},
   "outputs": [],
   "source": [
    "from sklearn.metrics import classification_report"
   ]
  },
  {
   "cell_type": "code",
   "execution_count": 129,
   "id": "a53ed5f5",
   "metadata": {},
   "outputs": [
    {
     "name": "stdout",
     "output_type": "stream",
     "text": [
      "              precision    recall  f1-score   support\n",
      "\n",
      "           0       0.92      1.00      0.96     50140\n",
      "           1       0.63      0.07      0.12      4668\n",
      "\n",
      "    accuracy                           0.92     54808\n",
      "   macro avg       0.77      0.53      0.54     54808\n",
      "weighted avg       0.89      0.92      0.89     54808\n",
      "\n"
     ]
    }
   ],
   "source": [
    "print(classification_report(y,logitpredict))"
   ]
  },
  {
   "cell_type": "code",
   "execution_count": null,
   "id": "a3d2e3c3",
   "metadata": {},
   "outputs": [],
   "source": []
  }
 ],
 "metadata": {
  "kernelspec": {
   "display_name": "Python 3",
   "language": "python",
   "name": "python3"
  },
  "language_info": {
   "codemirror_mode": {
    "name": "ipython",
    "version": 3
   },
   "file_extension": ".py",
   "mimetype": "text/x-python",
   "name": "python",
   "nbconvert_exporter": "python",
   "pygments_lexer": "ipython3",
   "version": "3.8.8"
  }
 },
 "nbformat": 4,
 "nbformat_minor": 5
}
